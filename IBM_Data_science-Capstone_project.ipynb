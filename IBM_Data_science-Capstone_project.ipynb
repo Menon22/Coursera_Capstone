{
 "cells": [
  {
   "cell_type": "markdown",
   "id": "8130d489",
   "metadata": {},
   "source": [
    "# Battle of neighborhoods "
   ]
  },
  {
   "cell_type": "markdown",
   "id": "c85fa359",
   "metadata": {},
   "source": [
    "## This notebook is the final project of the IBM professional data science certificate"
   ]
  },
  {
   "cell_type": "code",
   "execution_count": 1,
   "id": "a58e46f0",
   "metadata": {},
   "outputs": [],
   "source": [
    "import numpy as np\n",
    "import pandas as pd"
   ]
  },
  {
   "cell_type": "code",
   "execution_count": 2,
   "id": "934b4d9e",
   "metadata": {},
   "outputs": [
    {
     "name": "stdout",
     "output_type": "stream",
     "text": [
      "Hello Capstone Project Course!\n"
     ]
    }
   ],
   "source": [
    "print('Hello Capstone Project Course!')"
   ]
  }
 ],
 "metadata": {
  "kernelspec": {
   "display_name": "Python 3",
   "language": "python",
   "name": "python3"
  },
  "language_info": {
   "codemirror_mode": {
    "name": "ipython",
    "version": 3
   },
   "file_extension": ".py",
   "mimetype": "text/x-python",
   "name": "python",
   "nbconvert_exporter": "python",
   "pygments_lexer": "ipython3",
   "version": "3.7.10"
  }
 },
 "nbformat": 4,
 "nbformat_minor": 5
}
